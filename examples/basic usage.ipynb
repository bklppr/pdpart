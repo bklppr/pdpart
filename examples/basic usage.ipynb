{
 "cells": [
  {
   "cell_type": "markdown",
   "metadata": {},
   "source": [
    "# split dataframe by key and do stuff over partitions\n",
    "\n",
    "allows joining / grouping\n",
    "\n",
    " 1. map column(s) to hash, mod to map rows to partition\n",
    " 2. create individual file for each partition\n",
    " 3. if several dfs have been partitioned, can do joins on partitions separately (and in parallel)"
   ]
  },
  {
   "cell_type": "code",
   "execution_count": 19,
   "metadata": {
    "collapsed": true
   },
   "outputs": [],
   "source": [
    "import os\n",
    "import pandas as pd\n",
    "import numpy as np\n",
    "from importlib import reload"
   ]
  },
  {
   "cell_type": "code",
   "execution_count": 1,
   "metadata": {
    "collapsed": true
   },
   "outputs": [],
   "source": [
    "def make_test_data(n, filename=None):\n",
    "    chars = [chr(i) for i in range(ord('a'), ord('z') + 1)]\n",
    "    df = pd.DataFrame({\"key\": np.random.choice(chars, size=n),\n",
    "                       \"val\": np.random.rand(n)})\n",
    "    if filename is not None:\n",
    "        df.to_csv(filename, index=False)\n",
    "    return df"
   ]
  },
  {
   "cell_type": "code",
   "execution_count": 49,
   "metadata": {},
   "outputs": [],
   "source": [
    "# test join\n",
    "DATA_DIR = \"../data\"\n",
    "filename = os.path.join(DATA_DIR, \"test.csv\")\n",
    "df = make_test_data(401, filename)"
   ]
  },
  {
   "cell_type": "code",
   "execution_count": 13,
   "metadata": {},
   "outputs": [],
   "source": [
    "import pdpart.core as pdp"
   ]
  },
  {
   "cell_type": "code",
   "execution_count": 66,
   "metadata": {},
   "outputs": [
    {
     "data": {
      "text/plain": [
       "<module 'pdpart.core' from '/Users/matthiasossadnik/Documents/projects/misc/pdpart/pdpart/core.py'>"
      ]
     },
     "execution_count": 66,
     "metadata": {},
     "output_type": "execute_result"
    }
   ],
   "source": [
    "reload(pdp)"
   ]
  },
  {
   "cell_type": "code",
   "execution_count": 67,
   "metadata": {
    "collapsed": true
   },
   "outputs": [],
   "source": [
    "parts = pdp.Partitioned(\"key\", \"../data/parts\", n_partition=7, compression=\"gzip\")\n",
    "parts.init_dir()\n",
    "\n",
    "for _df in [df.iloc[:30], df.iloc[30:]]:\n",
    "    parts.append(_df)"
   ]
  },
  {
   "cell_type": "code",
   "execution_count": 75,
   "metadata": {},
   "outputs": [
    {
     "data": {
      "text/plain": [
       "True"
      ]
     },
     "execution_count": 75,
     "metadata": {},
     "output_type": "execute_result"
    }
   ],
   "source": [
    "import toolz\n",
    "\n",
    "def do_sth(fn):\n",
    "    df = pd.read_csv(fn, compression=\"gzip\")\n",
    "    return df.val.sum()\n",
    "    \n",
    "\n",
    "np.allclose(sum(toolz.map(do_sth, parts.partitions())), df.val.sum())"
   ]
  }
 ],
 "metadata": {
  "anaconda-cloud": {},
  "kernelspec": {
   "display_name": "Python [conda root]",
   "language": "python",
   "name": "conda-root-py"
  },
  "language_info": {
   "codemirror_mode": {
    "name": "ipython",
    "version": 3
   },
   "file_extension": ".py",
   "mimetype": "text/x-python",
   "name": "python",
   "nbconvert_exporter": "python",
   "pygments_lexer": "ipython3",
   "version": "3.5.2"
  }
 },
 "nbformat": 4,
 "nbformat_minor": 2
}
