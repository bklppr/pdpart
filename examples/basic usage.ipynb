{
 "cells": [
  {
   "cell_type": "markdown",
   "metadata": {},
   "source": [
    "# Examples"
   ]
  },
  {
   "cell_type": "code",
   "execution_count": null,
   "metadata": {
    "collapsed": true
   },
   "outputs": [],
   "source": [
    "import os\n",
    "import pandas as pd\n",
    "import numpy as np\n",
    "from pdpart import Partitioned\n",
    "import tempfile\n",
    "\n",
    "def make_test_data(n, filename=None):\n",
    "    chars = [chr(i) for i in range(ord('a'), ord('z') + 1)]\n",
    "    df = pd.DataFrame({\"key\": np.random.choice(chars, size=n),\n",
    "                       \"val\": np.random.rand(n)})\n",
    "    if filename is not None:\n",
    "        df.to_csv(filename, index=False)\n",
    "    return df\n",
    "\n",
    "\n",
    "tmp = tempfile.TemporaryDirectory()\n",
    "path = tmp.name\n",
    "\n",
    "filename = os.path.join(path, \"test.csv\")\n",
    "data = make_test_data(401, filename)"
   ]
  },
  {
   "cell_type": "code",
   "execution_count": null,
   "metadata": {
    "collapsed": false
   },
   "outputs": [],
   "source": [
    "# split a dataframe into partitions by column \"key\"\n",
    "dirname = os.path.join(path, \"parts\")\n",
    "\n",
    "# no filesystem changes at this stage\n",
    "parts = Partitioned(dirname, by=\"key\", n_partition=13, compression=\"gzip\")\n",
    "\n",
    "# this creates the directory and removes its content if it exists\n",
    "parts.init_dir()\n",
    "\n",
    "# write data frame to partitions, this can be done chunkwise\n",
    "for df in pd.read_csv(filename, chunksize=100):\n",
    "    parts.append(df)"
   ]
  },
  {
   "cell_type": "code",
   "execution_count": null,
   "metadata": {
    "collapsed": false
   },
   "outputs": [],
   "source": [
    "def do_sth(fn):\n",
    "    \"\"\"do something on a single partition\"\"\"\n",
    "    df = pd.read_csv(fn, compression=\"gzip\")\n",
    "    return df.val.sum()\n",
    "\n",
    "# work on data by looping over partitions\n",
    "# In practice, you could use parallelization\n",
    "assert np.allclose(sum([do_sth(fn) for fn in parts.partitions]), data.val.sum())"
   ]
  },
  {
   "cell_type": "code",
   "execution_count": null,
   "metadata": {
    "collapsed": false
   },
   "outputs": [],
   "source": [
    "# apply transformations per partition and store in new directory\n",
    "\n",
    "def transform(fn_in, fn_out, compression=None):\n",
    "    \"\"\"apply transformation on fn_in and write to fn_out\"\"\"\n",
    "    df = pd.read_csv(fn_in, compression=compression)\n",
    "    df[\"val\"] *= 2.\n",
    "    df.to_csv(fn_out, index=False, compression=compression)\n",
    "\n",
    "dest = Partitioned.new_like(os.path.join(path, \"dest\"), parts).init_dir()\n",
    "for fn_in, fn_out in zip(parts.partitions, dest.partitions):\n",
    "    transform(fn_in, fn_out, \"gzip\")\n",
    "\n",
    "    \n",
    "# check correct\n",
    "assert np.allclose(sum([do_sth(fn) for fn in dest.partitions]), 2 * data.val.sum())"
   ]
  },
  {
   "cell_type": "code",
   "execution_count": null,
   "metadata": {
    "collapsed": true
   },
   "outputs": [],
   "source": [
    "tmp.cleanup()"
   ]
  }
 ],
 "metadata": {
  "anaconda-cloud": {},
  "kernelspec": {
   "display_name": "Python 3",
   "language": "python",
   "name": "python3"
  },
  "language_info": {
   "codemirror_mode": {
    "name": "ipython",
    "version": 3
   },
   "file_extension": ".py",
   "mimetype": "text/x-python",
   "name": "python",
   "nbconvert_exporter": "python",
   "pygments_lexer": "ipython3",
   "version": "3.6.0"
  }
 },
 "nbformat": 4,
 "nbformat_minor": 2
}
