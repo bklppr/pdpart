{
 "cells": [
  {
   "cell_type": "markdown",
   "metadata": {},
   "source": [
    "# split dataframe by key and do stuff over partitions\n",
    "\n",
    "allows joining / grouping\n",
    "\n",
    " 1. map column(s) to hash, mod to map rows to partition\n",
    " 2. create individual file for each partition\n",
    " 3. if several dfs have been partitioned, can do joins on partitions separately (and in parallel)"
   ]
  },
  {
   "cell_type": "code",
   "execution_count": 1,
   "metadata": {
    "collapsed": true
   },
   "outputs": [],
   "source": [
    "import os\n",
    "import pandas as pd\n",
    "import numpy as np\n",
    "import toolz\n",
    "from pdpart import Partitioned\n",
    "\n",
    "def make_test_data(n, filename=None):\n",
    "    chars = [chr(i) for i in range(ord('a'), ord('z') + 1)]\n",
    "    df = pd.DataFrame({\"key\": np.random.choice(chars, size=n),\n",
    "                       \"val\": np.random.rand(n)})\n",
    "    if filename is not None:\n",
    "        df.to_csv(filename, index=False)\n",
    "    return df\n",
    "\n",
    "DATA_DIR = \"../data\"\n",
    "filename = os.path.join(DATA_DIR, \"test.csv\")\n",
    "data = make_test_data(401, filename)"
   ]
  },
  {
   "cell_type": "code",
   "execution_count": 5,
   "metadata": {},
   "outputs": [
    {
     "data": {
      "text/plain": [
       "True"
      ]
     },
     "execution_count": 5,
     "metadata": {},
     "output_type": "execute_result"
    }
   ],
   "source": [
    "# split a dataframe into partitions by column \"key\"\n",
    "\n",
    "parts = Partitioned(os.path.join(DATA_DIR, \"parts\"), by=\"key\", n_partition=7, compression=\"gzip\").init_dir()\n",
    "[parts.append(_df) for _df in pd.read_csv(filename, chunksize=100)]\n",
    "    \n",
    "# do something on partitions\n",
    "def do_sth(fn):\n",
    "    df = pd.read_csv(fn, compression=\"gzip\")\n",
    "    return df.val.sum()\n",
    "\n",
    "# check correct\n",
    "np.allclose(sum(toolz.map(do_sth, parts.partitions())), data.val.sum())"
   ]
  },
  {
   "cell_type": "code",
   "execution_count": 8,
   "metadata": {},
   "outputs": [
    {
     "data": {
      "text/plain": [
       "True"
      ]
     },
     "execution_count": 8,
     "metadata": {},
     "output_type": "execute_result"
    }
   ],
   "source": [
    "# apply transformations per partition and store in new directory\n",
    "\n",
    "def transform(fn_in, fn_out, compression=None):\n",
    "    df = pd.read_csv(fn_in, compression=compression)\n",
    "    df[\"val\"] *= 2.\n",
    "    df.to_csv(fn_out, index=False, compression=compression)\n",
    "\n",
    "dest = Partitioned.from_existing(os.path.join(DATA_DIR, \"dest\"), parts).init_dir()\n",
    "for fn_in, fn_out in zip(parts.partitions(), dest.partitions()):\n",
    "    transform(fn_in, fn_out, \"gzip\")\n",
    "   \n",
    "# check correct\n",
    "np.allclose(sum(toolz.map(do_sth, dest.partitions())), 2 * data.val.sum())"
   ]
  },
  {
   "cell_type": "code",
   "execution_count": null,
   "metadata": {},
   "outputs": [],
   "source": [
    "%ls ../data/*"
   ]
  }
 ],
 "metadata": {
  "anaconda-cloud": {},
  "kernelspec": {
   "display_name": "Python [conda root]",
   "language": "python",
   "name": "conda-root-py"
  },
  "language_info": {
   "codemirror_mode": {
    "name": "ipython",
    "version": 3
   },
   "file_extension": ".py",
   "mimetype": "text/x-python",
   "name": "python",
   "nbconvert_exporter": "python",
   "pygments_lexer": "ipython3",
   "version": "3.5.2"
  }
 },
 "nbformat": 4,
 "nbformat_minor": 2
}
