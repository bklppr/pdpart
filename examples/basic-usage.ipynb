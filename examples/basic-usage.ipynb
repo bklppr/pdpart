{
 "cells": [
  {
   "cell_type": "markdown",
   "metadata": {},
   "source": [
    "# Examples"
   ]
  },
  {
   "cell_type": "code",
   "execution_count": null,
   "metadata": {
    "collapsed": false
   },
   "outputs": [],
   "source": [
    "import os\n",
    "from pathlib import Path\n",
    "import pandas as pd\n",
    "import numpy as np\n",
    "from pdpart import Partitioned\n",
    "import tempfile\n",
    "\n",
    "\n",
    "def make_test_data(n):\n",
    "    chars = [chr(i) for i in range(ord('a'), ord('z') + 1)]\n",
    "    return pd.DataFrame({\n",
    "        \"key\": np.random.choice(chars, size=n),\n",
    "        \"value\": np.arange(n)\n",
    "    })\n",
    "\n",
    "\n",
    "tmp = tempfile.TemporaryDirectory()\n",
    "path = Path(tmp.name)\n",
    "dirname = path.joinpath('parts')\n",
    "data = make_test_data(401)\n",
    "\n",
    "parts = Partitioned.create(dirname, by='key', n_partition=13)\n",
    "\n",
    "parts.append(data)\n",
    "\n",
    "# reassemble data frame from parts\n",
    "df_parts = pd.concat([pd.read_csv(fn) for fn in parts.partitions], axis=0)\n",
    "\n",
    "# check dataframe has not changed\n",
    "assert np.all(np.equal(\n",
    "    *[df.sort_values(['key', 'value']).reset_index(drop=True) for df in [data, df_parts]]\n",
    "))\n",
    "\n",
    "# we can keep on appending data, e.g. when using chunkwise reading of files\n",
    "new_data = make_test_data(200)\n",
    "parts.append(new_data)\n",
    "\n",
    "assert pd.concat([pd.read_csv(fn) for fn in parts.partitions], axis=0).shape == (601, 2)\n",
    "\n",
    "\n",
    "# work on data by looping over partitions\n",
    "# In practice, you could use parallelization\n",
    "def do_sth(fn):\n",
    "    \"\"\"do something on a single partition\"\"\"\n",
    "    df = pd.read_csv(fn)\n",
    "    return df['value'].sum()\n",
    "\n",
    "assert np.allclose(sum([do_sth(fn) for fn in parts.partitions]), pd.concat([data, new_data], axis=0)['value'].sum())\n",
    "\n",
    "tmp.cleanup()"
   ]
  }
 ],
 "metadata": {
  "anaconda-cloud": {},
  "kernelspec": {
   "display_name": "Python 3",
   "language": "python",
   "name": "python3"
  },
  "language_info": {
   "codemirror_mode": {
    "name": "ipython",
    "version": 3
   },
   "file_extension": ".py",
   "mimetype": "text/x-python",
   "name": "python",
   "nbconvert_exporter": "python",
   "pygments_lexer": "ipython3",
   "version": "3.6.0"
  }
 },
 "nbformat": 4,
 "nbformat_minor": 2
}
