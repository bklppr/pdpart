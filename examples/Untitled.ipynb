{
 "cells": [
  {
   "cell_type": "markdown",
   "metadata": {},
   "source": [
    "# split dataframe by key and do stuff over partitions\n",
    "\n",
    "allows joining / grouping\n",
    "\n",
    " 1. map column(s) to hash, mod to map rows to partition\n",
    " 2. create individual file for each partition\n",
    " 3. if several dfs have been partitioned, can do joins on partitions separately (and in parallel)"
   ]
  },
  {
   "cell_type": "code",
   "execution_count": 17,
   "metadata": {
    "collapsed": true
   },
   "outputs": [],
   "source": [
    "def make_test_data(n, filename=None):\n",
    "    chars = [chr(i) for i in range(ord('a'), ord('z') + 1)]\n",
    "    df = pd.DataFrame({\"key\": np.random.choice(chars, size=n),\n",
    "                       \"val\": np.random.rand(n)})\n",
    "    if filename is not None:\n",
    "        df.to_csv(filename, index=False)\n",
    "    return df"
   ]
  },
  {
   "cell_type": "code",
   "execution_count": 118,
   "metadata": {
    "collapsed": true
   },
   "outputs": [],
   "source": [
    "# test join\n",
    "DATA_DIR = \"../data\"\n",
    "names = [os.path.join(DATA_DIR, \"test%d.csv\" % i) for i in [0, 1]]\n",
    "dirnames = [n + \".parts\" for n in names]\n",
    "\n",
    "df = [make_test_data(401, n) for n in names]"
   ]
  },
  {
   "cell_type": "code",
   "execution_count": 119,
   "metadata": {},
   "outputs": [],
   "source": [
    "for name, dirname in zip(names, dirnames):\n",
    "    init_dir(dirname)\n",
    "\n",
    "    for _df in pd.read_csv(os.path.join(path, name), chunksize=50):\n",
    "        to_csv(_df, \"key\", 7, dirname)"
   ]
  },
  {
   "cell_type": "code",
   "execution_count": 124,
   "metadata": {},
   "outputs": [],
   "source": [
    "dirname = \"../data/join.parts\"\n",
    "\n",
    "init_dir(dirname)\n",
    "for _df1, _df2 in zip(*(iter_parts(d) for d in dirnames)):\n",
    "    to_csv(_df1.merge(_df2, on=\"key\"), \"key\", 7, dirname)"
   ]
  },
  {
   "cell_type": "code",
   "execution_count": 127,
   "metadata": {},
   "outputs": [],
   "source": [
    "expected = (df[0]\n",
    "            .merge(df[1], on=\"key\")\n",
    "            .sort_values([\"key\", \"val_x\", \"val_y\"])\n",
    "            .reset_index(drop=True))\n",
    "actual = (pd\n",
    "          .concat(iter_parts(dirname), axis=0)\n",
    "          .sort_values([\"key\", \"val_x\", \"val_y\"])\n",
    "          .reset_index(drop=True))\n",
    "assert np.all(expected[\"key\"] == actual[\"key\"]) & np.allclose(expected.iloc[:, 1:], actual.iloc[:, 1:])"
   ]
  }
 ],
 "metadata": {
  "anaconda-cloud": {},
  "kernelspec": {
   "display_name": "Python [conda root]",
   "language": "python",
   "name": "conda-root-py"
  },
  "language_info": {
   "codemirror_mode": {
    "name": "ipython",
    "version": 3
   },
   "file_extension": ".py",
   "mimetype": "text/x-python",
   "name": "python",
   "nbconvert_exporter": "python",
   "pygments_lexer": "ipython3",
   "version": "3.5.2"
  }
 },
 "nbformat": 4,
 "nbformat_minor": 2
}
